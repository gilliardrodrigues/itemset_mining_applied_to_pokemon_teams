{
 "cells": [
  {
   "cell_type": "code",
   "execution_count": 1,
   "id": "487306cf",
   "metadata": {},
   "outputs": [],
   "source": [
    "import pandas as pd\n",
    "\n",
    "import requests\n",
    "from bs4 import BeautifulSoup, SoupStrainer\n",
    "import cchardet\n",
    "\n",
    "from tqdm import tqdm\n",
    "import logging\n",
    "import sys\n",
    "sys.path.append('../utils')\n",
    "from utils import get_logger, Clock"
   ]
  },
  {
   "cell_type": "code",
   "execution_count": 2,
   "id": "2b2bb1ab",
   "metadata": {},
   "outputs": [],
   "source": [
    "logger = logging.getLogger(__name__)\n",
    "logger = get_logger(logger=logger)"
   ]
  },
  {
   "cell_type": "code",
   "execution_count": 3,
   "id": "03d27711",
   "metadata": {},
   "outputs": [
    {
     "name": "stderr",
     "output_type": "stream",
     "text": [
      "2022-09-28 23:47:20,271 - INFO - Buscando as tags que possuem os nomes dos top 500 jogadores da ladder...\n",
      "2022-09-28 23:47:20,275 - INFO - Tags coletadas.\n"
     ]
    }
   ],
   "source": [
    "session = requests.Session()\n",
    "subtle_class = SoupStrainer(class_=\"subtle\")\n",
    "gen8ou_ladder_page = session.get('https://pokemonshowdown.com/ladder/gen8ou')\n",
    "soup = BeautifulSoup(gen8ou_ladder_page.text, 'lxml', parse_only=subtle_class)\n",
    "\n",
    "logger.info(\"Buscando as tags que possuem os nomes dos top 500 jogadores da ladder...\")\n",
    "top500_list = soup.find_all(class_='subtle')\n",
    "logger.info(\"Tags coletadas.\")"
   ]
  },
  {
   "cell_type": "code",
   "execution_count": 4,
   "id": "7fcb6db1",
   "metadata": {},
   "outputs": [
    {
     "name": "stderr",
     "output_type": "stream",
     "text": [
      "2022-09-28 23:47:20,295 - INFO - A iteração começará agora...\n",
      "Montando lista com os nomes de usuário: 100%|████████████████████████████████████| 500/500 [00:00<00:00, 495078.38it/s]\n",
      "2022-09-28 23:47:20,323 - INFO - Construção da lista de usuários levou 00s para ser executado.\n"
     ]
    }
   ],
   "source": [
    "users = []\n",
    "size = len(top500_list)\n",
    "\n",
    "logger.info(\"A iteração começará agora...\")\n",
    "iteration_time = Clock(\"Construção da lista de usuários\")\n",
    "with tqdm(total=size) as progress_bar:\n",
    "    progress_bar.set_description(\"Montando lista com os nomes de usuário\")\n",
    "    for tag in top500_list:\n",
    "        users.append(tag.contents[0])\n",
    "        progress_bar.update(1)\n",
    "iteration_time.stop_watch()"
   ]
  },
  {
   "cell_type": "markdown",
   "id": "295c2fc3",
   "metadata": {},
   "source": [
    "Vamos dar uma olhada nos 5 primeiros nomes dos jogadores:"
   ]
  },
  {
   "cell_type": "code",
   "execution_count": 5,
   "id": "ca0a071e",
   "metadata": {},
   "outputs": [
    {
     "data": {
      "text/plain": [
       "['Barracades', 'Relic Stone', 'pyukumuku guru', 'Chokst du', 'jaJAJJ']"
      ]
     },
     "execution_count": 5,
     "metadata": {},
     "output_type": "execute_result"
    }
   ],
   "source": [
    "users[:5]"
   ]
  },
  {
   "cell_type": "markdown",
   "id": "4b042d9c",
   "metadata": {},
   "source": [
    "Para a pesquisa de replays por usuário não faz diferença se o nome está minúsculo, maiúsculo, separado por espaço ou não. Portanto, para facilitar o processo, vamos eliminar os espaços:"
   ]
  },
  {
   "cell_type": "code",
   "execution_count": 6,
   "id": "85a91973",
   "metadata": {},
   "outputs": [],
   "source": [
    "users = [nick.replace(' ', '') for nick in users]"
   ]
  },
  {
   "cell_type": "code",
   "execution_count": 7,
   "id": "7cc06ae2",
   "metadata": {},
   "outputs": [
    {
     "data": {
      "text/plain": [
       "['Barracades', 'RelicStone', 'pyukumukuguru', 'Chokstdu', 'jaJAJJ']"
      ]
     },
     "execution_count": 7,
     "metadata": {},
     "output_type": "execute_result"
    }
   ],
   "source": [
    "users[:5]"
   ]
  },
  {
   "cell_type": "code",
   "execution_count": 8,
   "id": "99122118",
   "metadata": {},
   "outputs": [],
   "source": [
    "replay_search_by_user_url = 'https://replay.pokemonshowdown.com/search/?output=html&user='"
   ]
  },
  {
   "cell_type": "code",
   "execution_count": 9,
   "id": "f8010ad5",
   "metadata": {},
   "outputs": [
    {
     "name": "stderr",
     "output_type": "stream",
     "text": [
      "2022-09-28 23:47:20,404 - INFO - A iteração começará agora...\n",
      "Minerando os links de replay de cada jogador: 100%|██████████████████████████████████| 500/500 [04:16<00:00,  1.95it/s]\n",
      "2022-09-28 23:51:36,461 - INFO - Coleta dos links de replays levou 04m16s para ser executado.\n"
     ]
    }
   ],
   "source": [
    "replay_links_by_user = []\n",
    "size = len(users)\n",
    "\n",
    "logger.info(\"A iteração começará agora...\")\n",
    "iteration_time = Clock(\"Coleta dos links de replays\")\n",
    "session = requests.Session()\n",
    "a_tag = SoupStrainer('a')\n",
    "with tqdm(total=size) as progress_bar:\n",
    "    progress_bar.set_description(\"Minerando os links de replay de cada jogador\")\n",
    "    for user in users:\n",
    "        replay_search_page = session.get(replay_search_by_user_url + user)\n",
    "        soup = BeautifulSoup(replay_search_page.text, 'lxml', parse_only=a_tag)\n",
    "        user_replays = [link.get('href') for link in soup.find_all('a')]\n",
    "        replay_links_by_user.append(user_replays)\n",
    "        progress_bar.update(1)\n",
    "iteration_time.stop_watch()"
   ]
  },
  {
   "cell_type": "code",
   "execution_count": 10,
   "id": "3070e502",
   "metadata": {},
   "outputs": [
    {
     "name": "stderr",
     "output_type": "stream",
     "text": [
      "2022-09-28 23:51:36,481 - INFO - A iteração começará agora...\n",
      "Filtrando apenas os replays da tier OU (gen8): 100%|██████████████████████████████| 500/500 [00:00<00:00, 83896.15it/s]\n",
      "2022-09-28 23:51:36,492 - INFO - Filtragem dos links de replays levou 00s para ser executado.\n",
      "2022-09-28 23:51:36,494 - INFO - Existem 8249 id's de replay na base!\n"
     ]
    }
   ],
   "source": [
    "gen8ou_replay_ids = []\n",
    "size = len(replay_links_by_user)\n",
    "\n",
    "logger.info(\"A iteração começará agora...\")\n",
    "iteration_time = Clock(\"Filtragem dos links de replays\")\n",
    "with tqdm(total=size) as progress_bar:\n",
    "    progress_bar.set_description(\"Filtrando apenas os replays da tier OU (gen8)\")\n",
    "    for user_links in replay_links_by_user:\n",
    "        for replay_id in user_links:\n",
    "            if replay_id.startswith('/gen8ou-'):\n",
    "                gen8ou_replay_ids.append(replay_id)\n",
    "        progress_bar.update(1)\n",
    "iteration_time.stop_watch()\n",
    "logger.info(f\"Existem {len(gen8ou_replay_ids)} id's de replay na base!\")"
   ]
  },
  {
   "cell_type": "code",
   "execution_count": 11,
   "id": "704d66a3",
   "metadata": {},
   "outputs": [],
   "source": [
    "replay_url = 'https://replay.pokemonshowdown.com/'"
   ]
  },
  {
   "cell_type": "code",
   "execution_count": 12,
   "id": "68a69f9c",
   "metadata": {
    "scrolled": false
   },
   "outputs": [
    {
     "name": "stderr",
     "output_type": "stream",
     "text": [
      "2022-09-28 23:51:36,536 - INFO - A iteração começará agora...\n",
      "Coletando todas as equipes de cada replay: 100%|█████████████████████████████████| 8249/8249 [1:03:31<00:00,  2.16it/s]\n",
      "2022-09-29 00:55:07,663 - INFO - Coleta de todas as equipes levou 01h03m31s para ser executado.\n",
      "2022-09-29 00:55:07,663 - INFO - Existem 16494 equipes na base!\n"
     ]
    }
   ],
   "source": [
    "teams = []\n",
    "size = len(gen8ou_replay_ids)\n",
    "\n",
    "logger.info(\"A iteração começará agora...\")\n",
    "iteration_time = Clock(\"Coleta de todas as equipes\")\n",
    "session = requests.Session()\n",
    "class_log = SoupStrainer(class_=\"log\")\n",
    "with tqdm(total=size) as progress_bar:\n",
    "    progress_bar.set_description(\"Coletando todas as equipes de cada replay\")\n",
    "    for replay_id in gen8ou_replay_ids:\n",
    "        replay_page = session.get(replay_url + replay_id)\n",
    "        soup = BeautifulSoup(replay_page.text, 'lxml', parse_only=class_log)\n",
    "        if soup.find(class_='log'):\n",
    "            content = soup.find(class_='log').contents[0]\n",
    "            team = content.split('|poke|')[1:13]\n",
    "            if(len(team) != 0):\n",
    "                team[-1] = team[-1].split('\\n')[0]\n",
    "                team = [s.split('|') for s in team]\n",
    "                team = [s[1] for s in team]\n",
    "                team = [s.split(',') for s in team]\n",
    "                team = [s[0] for s in team]\n",
    "                teams.append(team[:6])\n",
    "                teams.append(team[6:])\n",
    "        progress_bar.update(1)\n",
    "iteration_time.stop_watch()\n",
    "logger.info(f'Existem {len(teams)} equipes na base!')"
   ]
  },
  {
   "cell_type": "code",
   "execution_count": 13,
   "id": "db26642b",
   "metadata": {},
   "outputs": [
    {
     "name": "stderr",
     "output_type": "stream",
     "text": [
      "2022-09-29 00:55:07,703 - INFO - A iteração começará agora...\n",
      "Filtrando apenas as equipes de 6 pokémons e adicionando ao DataFrame: 100%|█████| 16494/16494 [00:33<00:00, 494.75it/s]\n",
      "2022-09-29 00:55:41,043 - INFO - Construção do DataFrame levou 33s para ser executado.\n",
      "2022-09-29 00:55:41,059 - INFO - Existem 16447 equipes de 6 pokémons na base!\n"
     ]
    }
   ],
   "source": [
    "columns = ['pokemon_1', 'pokemon_2', 'pokemon_3', 'pokemon_4', 'pokemon_5', 'pokemon_6']\n",
    "ladder_teams_df = pd.DataFrame(columns=columns)\n",
    "size = len(teams)\n",
    "\n",
    "logger.info(\"A iteração começará agora...\")\n",
    "iteration_time = Clock(\"Construção do DataFrame\")\n",
    "with tqdm(total=size) as progress_bar:\n",
    "    progress_bar.set_description(\"Filtrando apenas as equipes de 6 pokémons e adicionando ao DataFrame\")\n",
    "    for index, team in enumerate(teams):\n",
    "        if len(team) == 6:\n",
    "            ladder_teams_df.loc[index] = team\n",
    "        progress_bar.update(1)\n",
    "iteration_time.stop_watch()\n",
    "logger.info(f'Existem {len(ladder_teams_df)} equipes de 6 pokémons na base!')"
   ]
  },
  {
   "cell_type": "code",
   "execution_count": 14,
   "id": "0f50479e",
   "metadata": {},
   "outputs": [
    {
     "data": {
      "text/html": [
       "<div>\n",
       "<style scoped>\n",
       "    .dataframe tbody tr th:only-of-type {\n",
       "        vertical-align: middle;\n",
       "    }\n",
       "\n",
       "    .dataframe tbody tr th {\n",
       "        vertical-align: top;\n",
       "    }\n",
       "\n",
       "    .dataframe thead th {\n",
       "        text-align: right;\n",
       "    }\n",
       "</style>\n",
       "<table border=\"1\" class=\"dataframe\">\n",
       "  <thead>\n",
       "    <tr style=\"text-align: right;\">\n",
       "      <th></th>\n",
       "      <th>pokemon_1</th>\n",
       "      <th>pokemon_2</th>\n",
       "      <th>pokemon_3</th>\n",
       "      <th>pokemon_4</th>\n",
       "      <th>pokemon_5</th>\n",
       "      <th>pokemon_6</th>\n",
       "    </tr>\n",
       "  </thead>\n",
       "  <tbody>\n",
       "    <tr>\n",
       "      <th>0</th>\n",
       "      <td>Kartana</td>\n",
       "      <td>Urshifu-*</td>\n",
       "      <td>Landorus-Therian</td>\n",
       "      <td>Melmetal</td>\n",
       "      <td>Weavile</td>\n",
       "      <td>Dragonite</td>\n",
       "    </tr>\n",
       "    <tr>\n",
       "      <th>1</th>\n",
       "      <td>Mew</td>\n",
       "      <td>Blaziken</td>\n",
       "      <td>Scizor</td>\n",
       "      <td>Garchomp</td>\n",
       "      <td>Ninetales-Alola</td>\n",
       "      <td>Dragapult</td>\n",
       "    </tr>\n",
       "    <tr>\n",
       "      <th>2</th>\n",
       "      <td>Garchomp</td>\n",
       "      <td>Tapu Koko</td>\n",
       "      <td>Moltres-Galar</td>\n",
       "      <td>Ferrothorn</td>\n",
       "      <td>Volcarona</td>\n",
       "      <td>Dragonite</td>\n",
       "    </tr>\n",
       "    <tr>\n",
       "      <th>3</th>\n",
       "      <td>Landorus-Therian</td>\n",
       "      <td>Weavile</td>\n",
       "      <td>Melmetal</td>\n",
       "      <td>Volcanion</td>\n",
       "      <td>Crawdaunt</td>\n",
       "      <td>Dragapult</td>\n",
       "    </tr>\n",
       "    <tr>\n",
       "      <th>4</th>\n",
       "      <td>Garchomp</td>\n",
       "      <td>Aegislash</td>\n",
       "      <td>Urshifu-*</td>\n",
       "      <td>Dragapult</td>\n",
       "      <td>Rillaboom</td>\n",
       "      <td>Bisharp</td>\n",
       "    </tr>\n",
       "  </tbody>\n",
       "</table>\n",
       "</div>"
      ],
      "text/plain": [
       "          pokemon_1  pokemon_2         pokemon_3   pokemon_4        pokemon_5  \\\n",
       "0           Kartana  Urshifu-*  Landorus-Therian    Melmetal          Weavile   \n",
       "1               Mew   Blaziken            Scizor    Garchomp  Ninetales-Alola   \n",
       "2          Garchomp  Tapu Koko     Moltres-Galar  Ferrothorn        Volcarona   \n",
       "3  Landorus-Therian    Weavile          Melmetal   Volcanion        Crawdaunt   \n",
       "4          Garchomp  Aegislash         Urshifu-*   Dragapult        Rillaboom   \n",
       "\n",
       "   pokemon_6  \n",
       "0  Dragonite  \n",
       "1  Dragapult  \n",
       "2  Dragonite  \n",
       "3  Dragapult  \n",
       "4    Bisharp  "
      ]
     },
     "execution_count": 14,
     "metadata": {},
     "output_type": "execute_result"
    }
   ],
   "source": [
    "ladder_teams_df.head()"
   ]
  },
  {
   "cell_type": "code",
   "execution_count": 15,
   "id": "638e1b9b",
   "metadata": {},
   "outputs": [
    {
     "name": "stderr",
     "output_type": "stream",
     "text": [
      "2022-09-29 00:55:42,618 - INFO - A base foi exportada como csv e planilha do Excel!\n"
     ]
    }
   ],
   "source": [
    "file_path = 'C:\\\\Users\\\\User\\\\Desktop\\\\8º período\\\\MSI I\\\\Repositórios\\\\itemset_mining_applied_to_pokemon_teams\\\\'\n",
    "\n",
    "ladder_teams_df.to_csv(file_path + 'data\\\\processed\\\\ladder_teams.csv', index=False)\n",
    "ladder_teams_df.to_excel(file_path + 'data\\\\processed\\\\ladder_teams.xlsx', index=False)\n",
    "logger.info(\"A base foi exportada como csv e planilha do Excel!\")"
   ]
  }
 ],
 "metadata": {
  "kernelspec": {
   "display_name": "Python 3 (ipykernel)",
   "language": "python",
   "name": "python3"
  },
  "language_info": {
   "codemirror_mode": {
    "name": "ipython",
    "version": 3
   },
   "file_extension": ".py",
   "mimetype": "text/x-python",
   "name": "python",
   "nbconvert_exporter": "python",
   "pygments_lexer": "ipython3",
   "version": "3.9.12"
  }
 },
 "nbformat": 4,
 "nbformat_minor": 5
}
