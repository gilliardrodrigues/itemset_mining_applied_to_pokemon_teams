{
 "cells": [
  {
   "cell_type": "code",
   "execution_count": 51,
   "id": "9089d3fa",
   "metadata": {},
   "outputs": [],
   "source": [
    "import pandas as pd\n",
    "from IPython.display import display, HTML\n",
    "\n",
    "pd.set_option('display.max_colwidth', None)\n",
    "\n",
    "def make_visible_img(url):\n",
    "    return f'<img src=\"{url}\" style=\"max-height:124px;\"></img>'"
   ]
  },
  {
   "cell_type": "code",
   "execution_count": 3,
   "id": "a728c01c",
   "metadata": {},
   "outputs": [],
   "source": [
    "file_path = 'C:\\\\Users\\\\User\\\\Documents\\\\jupyter_notebooks\\\\ufmg\\\\itemset_mining_applied_to_pokemon_teams\\\\'\n",
    "sprites_url = 'https://play.pokemonshowdown.com/sprites/gen5/'"
   ]
  },
  {
   "cell_type": "code",
   "execution_count": 170,
   "id": "467c9113",
   "metadata": {
    "scrolled": false
   },
   "outputs": [],
   "source": [
    "import json\n",
    "with open(file_path + 'data\\\\original\\\\pokedex.json', \"r\", encoding=\"utf8\") as readfile:\n",
    "    data = json.load(readfile)"
   ]
  },
  {
   "cell_type": "code",
   "execution_count": 171,
   "id": "a8c9f14b",
   "metadata": {},
   "outputs": [],
   "source": [
    "pokemons = []\n",
    "for key, value in data.items():\n",
    "    pokemons.append([value['name'], value['types']])\n",
    "pokemons = pokemons[:-88]"
   ]
  },
  {
   "cell_type": "code",
   "execution_count": 172,
   "id": "9e2ebd8f",
   "metadata": {},
   "outputs": [
    {
     "data": {
      "text/html": [
       "<div>\n",
       "<style scoped>\n",
       "    .dataframe tbody tr th:only-of-type {\n",
       "        vertical-align: middle;\n",
       "    }\n",
       "\n",
       "    .dataframe tbody tr th {\n",
       "        vertical-align: top;\n",
       "    }\n",
       "\n",
       "    .dataframe thead th {\n",
       "        text-align: right;\n",
       "    }\n",
       "</style>\n",
       "<table border=\"1\" class=\"dataframe\">\n",
       "  <thead>\n",
       "    <tr style=\"text-align: right;\">\n",
       "      <th></th>\n",
       "      <th>Pokémon</th>\n",
       "      <th>1º tipo</th>\n",
       "      <th>2º tipo</th>\n",
       "    </tr>\n",
       "  </thead>\n",
       "  <tbody>\n",
       "  </tbody>\n",
       "</table>\n",
       "</div>"
      ],
      "text/plain": [
       "Empty DataFrame\n",
       "Columns: [Pokémon, 1º tipo, 2º tipo]\n",
       "Index: []"
      ]
     },
     "execution_count": 172,
     "metadata": {},
     "output_type": "execute_result"
    }
   ],
   "source": [
    "df = pd.DataFrame(columns=['Pokémon', '1º tipo', '2º tipo'])"
   ]
  },
  {
   "cell_type": "code",
   "execution_count": 173,
   "id": "25dacd06",
   "metadata": {},
   "outputs": [],
   "source": [
    "for index, pokemon in enumerate(pokemons):\n",
    "    if len(pokemon[1]) == 1:\n",
    "        pokemon[1].append('-')\n",
    "    df.loc[index] = [pokemon[0], pokemon[1][0], pokemon[1][1]]"
   ]
  },
  {
   "cell_type": "code",
   "execution_count": 174,
   "id": "a56e2de1",
   "metadata": {},
   "outputs": [],
   "source": [
    "df['1º tipo'] = ['https://play.pokemonshowdown.com/sprites/types/' + tipo + '.png' for tipo in df['1º tipo']]\n",
    "df['2º tipo'] = ['https://play.pokemonshowdown.com/sprites/types/' + tipo + '.png' if tipo != '-' else '-' for tipo in df['2º tipo']]"
   ]
  },
  {
   "cell_type": "code",
   "execution_count": 175,
   "id": "555dbae7",
   "metadata": {},
   "outputs": [],
   "source": [
    "for index, pokemon in df['Pokémon'].iteritems():\n",
    "    df.loc[index, 'Sprite'] = 'https://play.pokemonshowdown.com/sprites/gen5/' + pokemon.lower().replace(' ', '') + '.png'"
   ]
  },
  {
   "cell_type": "code",
   "execution_count": 176,
   "id": "d9044c16",
   "metadata": {},
   "outputs": [
    {
     "data": {
      "text/html": [
       "<div>\n",
       "<style scoped>\n",
       "    .dataframe tbody tr th:only-of-type {\n",
       "        vertical-align: middle;\n",
       "    }\n",
       "\n",
       "    .dataframe tbody tr th {\n",
       "        vertical-align: top;\n",
       "    }\n",
       "\n",
       "    .dataframe thead th {\n",
       "        text-align: right;\n",
       "    }\n",
       "</style>\n",
       "<table border=\"1\" class=\"dataframe\">\n",
       "  <thead>\n",
       "    <tr style=\"text-align: right;\">\n",
       "      <th></th>\n",
       "      <th>Pokémon</th>\n",
       "      <th>1º tipo</th>\n",
       "      <th>2º tipo</th>\n",
       "      <th>Sprite</th>\n",
       "    </tr>\n",
       "  </thead>\n",
       "  <tbody>\n",
       "    <tr>\n",
       "      <th>0</th>\n",
       "      <td>Bulbasaur</td>\n",
       "      <td>https://play.pokemonshowdown.com/sprites/types/Grass.png</td>\n",
       "      <td>https://play.pokemonshowdown.com/sprites/types/Poison.png</td>\n",
       "      <td>https://play.pokemonshowdown.com/sprites/gen5/bulbasaur.png</td>\n",
       "    </tr>\n",
       "    <tr>\n",
       "      <th>1</th>\n",
       "      <td>Ivysaur</td>\n",
       "      <td>https://play.pokemonshowdown.com/sprites/types/Grass.png</td>\n",
       "      <td>https://play.pokemonshowdown.com/sprites/types/Poison.png</td>\n",
       "      <td>https://play.pokemonshowdown.com/sprites/gen5/ivysaur.png</td>\n",
       "    </tr>\n",
       "    <tr>\n",
       "      <th>2</th>\n",
       "      <td>Venusaur</td>\n",
       "      <td>https://play.pokemonshowdown.com/sprites/types/Grass.png</td>\n",
       "      <td>https://play.pokemonshowdown.com/sprites/types/Poison.png</td>\n",
       "      <td>https://play.pokemonshowdown.com/sprites/gen5/venusaur.png</td>\n",
       "    </tr>\n",
       "    <tr>\n",
       "      <th>3</th>\n",
       "      <td>Venusaur-Mega</td>\n",
       "      <td>https://play.pokemonshowdown.com/sprites/types/Grass.png</td>\n",
       "      <td>https://play.pokemonshowdown.com/sprites/types/Poison.png</td>\n",
       "      <td>https://play.pokemonshowdown.com/sprites/gen5/venusaur-mega.png</td>\n",
       "    </tr>\n",
       "    <tr>\n",
       "      <th>4</th>\n",
       "      <td>Venusaur-Gmax</td>\n",
       "      <td>https://play.pokemonshowdown.com/sprites/types/Grass.png</td>\n",
       "      <td>https://play.pokemonshowdown.com/sprites/types/Poison.png</td>\n",
       "      <td>https://play.pokemonshowdown.com/sprites/gen5/venusaur-gmax.png</td>\n",
       "    </tr>\n",
       "    <tr>\n",
       "      <th>5</th>\n",
       "      <td>Charmander</td>\n",
       "      <td>https://play.pokemonshowdown.com/sprites/types/Fire.png</td>\n",
       "      <td>-</td>\n",
       "      <td>https://play.pokemonshowdown.com/sprites/gen5/charmander.png</td>\n",
       "    </tr>\n",
       "    <tr>\n",
       "      <th>6</th>\n",
       "      <td>Charmeleon</td>\n",
       "      <td>https://play.pokemonshowdown.com/sprites/types/Fire.png</td>\n",
       "      <td>-</td>\n",
       "      <td>https://play.pokemonshowdown.com/sprites/gen5/charmeleon.png</td>\n",
       "    </tr>\n",
       "    <tr>\n",
       "      <th>7</th>\n",
       "      <td>Charizard</td>\n",
       "      <td>https://play.pokemonshowdown.com/sprites/types/Fire.png</td>\n",
       "      <td>https://play.pokemonshowdown.com/sprites/types/Flying.png</td>\n",
       "      <td>https://play.pokemonshowdown.com/sprites/gen5/charizard.png</td>\n",
       "    </tr>\n",
       "    <tr>\n",
       "      <th>8</th>\n",
       "      <td>Charizard-Mega-X</td>\n",
       "      <td>https://play.pokemonshowdown.com/sprites/types/Fire.png</td>\n",
       "      <td>https://play.pokemonshowdown.com/sprites/types/Dragon.png</td>\n",
       "      <td>https://play.pokemonshowdown.com/sprites/gen5/charizard-mega-x.png</td>\n",
       "    </tr>\n",
       "    <tr>\n",
       "      <th>9</th>\n",
       "      <td>Charizard-Mega-Y</td>\n",
       "      <td>https://play.pokemonshowdown.com/sprites/types/Fire.png</td>\n",
       "      <td>https://play.pokemonshowdown.com/sprites/types/Flying.png</td>\n",
       "      <td>https://play.pokemonshowdown.com/sprites/gen5/charizard-mega-y.png</td>\n",
       "    </tr>\n",
       "  </tbody>\n",
       "</table>\n",
       "</div>"
      ],
      "text/plain": [
       "            Pokémon                                                   1º tipo  \\\n",
       "0         Bulbasaur  https://play.pokemonshowdown.com/sprites/types/Grass.png   \n",
       "1           Ivysaur  https://play.pokemonshowdown.com/sprites/types/Grass.png   \n",
       "2          Venusaur  https://play.pokemonshowdown.com/sprites/types/Grass.png   \n",
       "3     Venusaur-Mega  https://play.pokemonshowdown.com/sprites/types/Grass.png   \n",
       "4     Venusaur-Gmax  https://play.pokemonshowdown.com/sprites/types/Grass.png   \n",
       "5        Charmander   https://play.pokemonshowdown.com/sprites/types/Fire.png   \n",
       "6        Charmeleon   https://play.pokemonshowdown.com/sprites/types/Fire.png   \n",
       "7         Charizard   https://play.pokemonshowdown.com/sprites/types/Fire.png   \n",
       "8  Charizard-Mega-X   https://play.pokemonshowdown.com/sprites/types/Fire.png   \n",
       "9  Charizard-Mega-Y   https://play.pokemonshowdown.com/sprites/types/Fire.png   \n",
       "\n",
       "                                                     2º tipo  \\\n",
       "0  https://play.pokemonshowdown.com/sprites/types/Poison.png   \n",
       "1  https://play.pokemonshowdown.com/sprites/types/Poison.png   \n",
       "2  https://play.pokemonshowdown.com/sprites/types/Poison.png   \n",
       "3  https://play.pokemonshowdown.com/sprites/types/Poison.png   \n",
       "4  https://play.pokemonshowdown.com/sprites/types/Poison.png   \n",
       "5                                                          -   \n",
       "6                                                          -   \n",
       "7  https://play.pokemonshowdown.com/sprites/types/Flying.png   \n",
       "8  https://play.pokemonshowdown.com/sprites/types/Dragon.png   \n",
       "9  https://play.pokemonshowdown.com/sprites/types/Flying.png   \n",
       "\n",
       "                                                               Sprite  \n",
       "0         https://play.pokemonshowdown.com/sprites/gen5/bulbasaur.png  \n",
       "1           https://play.pokemonshowdown.com/sprites/gen5/ivysaur.png  \n",
       "2          https://play.pokemonshowdown.com/sprites/gen5/venusaur.png  \n",
       "3     https://play.pokemonshowdown.com/sprites/gen5/venusaur-mega.png  \n",
       "4     https://play.pokemonshowdown.com/sprites/gen5/venusaur-gmax.png  \n",
       "5        https://play.pokemonshowdown.com/sprites/gen5/charmander.png  \n",
       "6        https://play.pokemonshowdown.com/sprites/gen5/charmeleon.png  \n",
       "7         https://play.pokemonshowdown.com/sprites/gen5/charizard.png  \n",
       "8  https://play.pokemonshowdown.com/sprites/gen5/charizard-mega-x.png  \n",
       "9  https://play.pokemonshowdown.com/sprites/gen5/charizard-mega-y.png  "
      ]
     },
     "execution_count": 176,
     "metadata": {},
     "output_type": "execute_result"
    }
   ],
   "source": [
    "df.head(10)"
   ]
  },
  {
   "cell_type": "code",
   "execution_count": 177,
   "id": "0da4d6ae",
   "metadata": {},
   "outputs": [],
   "source": [
    "df.to_csv(file_path + 'data\\\\processed\\\\sprites_showdown.csv', index=False)"
   ]
  }
 ],
 "metadata": {
  "kernelspec": {
   "display_name": "Python 3 (ipykernel)",
   "language": "python",
   "name": "python3"
  },
  "language_info": {
   "codemirror_mode": {
    "name": "ipython",
    "version": 3
   },
   "file_extension": ".py",
   "mimetype": "text/x-python",
   "name": "python",
   "nbconvert_exporter": "python",
   "pygments_lexer": "ipython3",
   "version": "3.9.12"
  },
  "toc": {
   "base_numbering": 1,
   "nav_menu": {},
   "number_sections": true,
   "sideBar": true,
   "skip_h1_title": false,
   "title_cell": "Table of Contents",
   "title_sidebar": "Contents",
   "toc_cell": false,
   "toc_position": {},
   "toc_section_display": true,
   "toc_window_display": false
  }
 },
 "nbformat": 4,
 "nbformat_minor": 5
}
