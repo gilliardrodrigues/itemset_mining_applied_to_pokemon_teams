{
 "cells": [
  {
   "cell_type": "code",
   "execution_count": 1,
   "id": "e77e9f0f",
   "metadata": {},
   "outputs": [
    {
     "data": {
      "text/plain": [
       "Renderers configuration\n",
       "-----------------------\n",
       "    Default renderer: 'plotly_mimetype+notebook'\n",
       "    Available renderers:\n",
       "        ['plotly_mimetype', 'jupyterlab', 'nteract', 'vscode',\n",
       "         'notebook', 'notebook_connected', 'kaggle', 'azure', 'colab',\n",
       "         'cocalc', 'databricks', 'json', 'png', 'jpeg', 'jpg', 'svg',\n",
       "         'pdf', 'browser', 'firefox', 'chrome', 'chromium', 'iframe',\n",
       "         'iframe_connected', 'sphinx_gallery', 'sphinx_gallery_png']"
      ]
     },
     "execution_count": 1,
     "metadata": {},
     "output_type": "execute_result"
    }
   ],
   "source": [
    "import pandas as pd\n",
    "import plotly.graph_objects as go\n",
    "import plotly.express as px\n",
    "import plotly.io as pio\n",
    "\n",
    "pio.renderers"
   ]
  },
  {
   "cell_type": "code",
   "execution_count": 2,
   "id": "c8277d24",
   "metadata": {
    "scrolled": true
   },
   "outputs": [
    {
     "data": {
      "text/html": [
       "<div>\n",
       "<style scoped>\n",
       "    .dataframe tbody tr th:only-of-type {\n",
       "        vertical-align: middle;\n",
       "    }\n",
       "\n",
       "    .dataframe tbody tr th {\n",
       "        vertical-align: top;\n",
       "    }\n",
       "\n",
       "    .dataframe thead th {\n",
       "        text-align: right;\n",
       "    }\n",
       "</style>\n",
       "<table border=\"1\" class=\"dataframe\">\n",
       "  <thead>\n",
       "    <tr style=\"text-align: right;\">\n",
       "      <th></th>\n",
       "      <th>pokemon_1</th>\n",
       "      <th>pokemon_2</th>\n",
       "      <th>pokemon_3</th>\n",
       "      <th>pokemon_4</th>\n",
       "      <th>pokemon_5</th>\n",
       "      <th>pokemon_6</th>\n",
       "    </tr>\n",
       "  </thead>\n",
       "  <tbody>\n",
       "    <tr>\n",
       "      <th>0</th>\n",
       "      <td>Landorus-Therian</td>\n",
       "      <td>Corviknight</td>\n",
       "      <td>Tapu Fini</td>\n",
       "      <td>Slowking-Galar</td>\n",
       "      <td>Volcarona</td>\n",
       "      <td>Dragapult</td>\n",
       "    </tr>\n",
       "    <tr>\n",
       "      <th>1</th>\n",
       "      <td>Hawlucha</td>\n",
       "      <td>Ninetales-Alola</td>\n",
       "      <td>Garchomp</td>\n",
       "      <td>Cloyster</td>\n",
       "      <td>Tapu Lele</td>\n",
       "      <td>Heatran</td>\n",
       "    </tr>\n",
       "    <tr>\n",
       "      <th>2</th>\n",
       "      <td>Kartana</td>\n",
       "      <td>Zapdos</td>\n",
       "      <td>Heatran</td>\n",
       "      <td>Landorus-Therian</td>\n",
       "      <td>Dragapult</td>\n",
       "      <td>Toxapex</td>\n",
       "    </tr>\n",
       "    <tr>\n",
       "      <th>3</th>\n",
       "      <td>Heatran</td>\n",
       "      <td>Melmetal</td>\n",
       "      <td>Tornadus-Therian</td>\n",
       "      <td>Landorus-Therian</td>\n",
       "      <td>Slowbro</td>\n",
       "      <td>Weavile</td>\n",
       "    </tr>\n",
       "    <tr>\n",
       "      <th>4</th>\n",
       "      <td>Diggersby</td>\n",
       "      <td>Shuckle</td>\n",
       "      <td>Dragonite</td>\n",
       "      <td>Blastoise</td>\n",
       "      <td>Tapu Koko</td>\n",
       "      <td>Aegislash</td>\n",
       "    </tr>\n",
       "  </tbody>\n",
       "</table>\n",
       "</div>"
      ],
      "text/plain": [
       "          pokemon_1        pokemon_2         pokemon_3         pokemon_4  \\\n",
       "0  Landorus-Therian      Corviknight         Tapu Fini    Slowking-Galar   \n",
       "1          Hawlucha  Ninetales-Alola          Garchomp          Cloyster   \n",
       "2           Kartana           Zapdos           Heatran  Landorus-Therian   \n",
       "3           Heatran         Melmetal  Tornadus-Therian  Landorus-Therian   \n",
       "4         Diggersby          Shuckle         Dragonite         Blastoise   \n",
       "\n",
       "   pokemon_5  pokemon_6  \n",
       "0  Volcarona  Dragapult  \n",
       "1  Tapu Lele    Heatran  \n",
       "2  Dragapult    Toxapex  \n",
       "3    Slowbro    Weavile  \n",
       "4  Tapu Koko  Aegislash  "
      ]
     },
     "execution_count": 2,
     "metadata": {},
     "output_type": "execute_result"
    }
   ],
   "source": [
    "filepath = 'C:\\\\Users\\\\User\\\\Desktop\\\\8º período\\\\DM\\\\TP1\\\\itemset_mining_applied_to_pokemon_teams\\\\'\n",
    "\n",
    "team_df = pd.read_csv(filepath + 'data\\\\processed\\\\pokemon_teams.csv')\n",
    "\n",
    "team_df.head()"
   ]
  },
  {
   "cell_type": "code",
   "execution_count": 3,
   "id": "d94fe560",
   "metadata": {
    "scrolled": true
   },
   "outputs": [
    {
     "name": "stdout",
     "output_type": "stream",
     "text": [
      "Existem 493 pokémons diferentes e 4340 equipes no dataset!\n"
     ]
    }
   ],
   "source": [
    "pokemons = team_df.stack().reset_index(drop=True)\n",
    "pokemons_unicos = pd.Series([pokemon.lower() for pokemon in pokemons]).unique()\n",
    "\n",
    "print(f'Existem {len(pokemons_unicos)} pokémons diferentes e {team_df.shape[0]} equipes no dataset!')"
   ]
  },
  {
   "cell_type": "code",
   "execution_count": 4,
   "id": "63fa55c2",
   "metadata": {},
   "outputs": [
    {
     "name": "stdout",
     "output_type": "stream",
     "text": [
      "<class 'pandas.core.frame.DataFrame'>\n",
      "RangeIndex: 4340 entries, 0 to 4339\n",
      "Data columns (total 6 columns):\n",
      " #   Column     Non-Null Count  Dtype \n",
      "---  ------     --------------  ----- \n",
      " 0   pokemon_1  4340 non-null   object\n",
      " 1   pokemon_2  4340 non-null   object\n",
      " 2   pokemon_3  4340 non-null   object\n",
      " 3   pokemon_4  4340 non-null   object\n",
      " 4   pokemon_5  4340 non-null   object\n",
      " 5   pokemon_6  4340 non-null   object\n",
      "dtypes: object(6)\n",
      "memory usage: 203.6+ KB\n",
      "None\n"
     ]
    }
   ],
   "source": [
    "print(team_df.info())"
   ]
  },
  {
   "cell_type": "code",
   "execution_count": 30,
   "id": "fcb7dc76",
   "metadata": {
    "scrolled": false
   },
   "outputs": [
    {
     "data": {
      "image/svg+xml": [
       "<svg class=\"main-svg\" xmlns=\"http://www.w3.org/2000/svg\" xmlns:xlink=\"http://www.w3.org/1999/xlink\" width=\"950\" height=\"525\" style=\"\" viewBox=\"0 0 950 525\"><rect x=\"0\" y=\"0\" width=\"950\" height=\"525\" style=\"fill: rgb(255, 255, 255); fill-opacity: 1;\"/><defs id=\"defs-59ffb0\"><g class=\"clips\"><clipPath id=\"clip59ffb0xyplot\" class=\"plotclip\"><rect width=\"750\" height=\"345\"/></clipPath><clipPath class=\"axesclip\" id=\"clip59ffb0x\"><rect x=\"120\" y=\"0\" width=\"750\" height=\"525\"/></clipPath><clipPath class=\"axesclip\" id=\"clip59ffb0y\"><rect x=\"0\" y=\"100\" width=\"950\" height=\"345\"/></clipPath><clipPath class=\"axesclip\" id=\"clip59ffb0xy\"><rect x=\"120\" y=\"100\" width=\"750\" height=\"345\"/></clipPath></g><g class=\"gradients\"/><g class=\"patterns\"/></defs><g class=\"bglayer\"><rect class=\"bg\" x=\"120\" y=\"100\" width=\"750\" height=\"345\" style=\"fill: rgb(229, 236, 246); fill-opacity: 1; stroke-width: 0;\"/></g><g class=\"layer-below\"><g class=\"imagelayer\"/><g class=\"shapelayer\"/></g><g class=\"cartesianlayer\"><g class=\"subplot xy\"><g class=\"layer-subplot\"><g class=\"shapelayer\"/><g class=\"imagelayer\"/></g><g class=\"gridlayer\"><g class=\"x\"><path class=\"xgrid crisp\" transform=\"translate(228.61,0)\" d=\"M0,100v345\" style=\"stroke: rgb(255, 255, 255); stroke-opacity: 1; stroke-width: 1px;\"/><path class=\"xgrid crisp\" transform=\"translate(337.23,0)\" d=\"M0,100v345\" style=\"stroke: rgb(255, 255, 255); stroke-opacity: 1; stroke-width: 1px;\"/><path class=\"xgrid crisp\" transform=\"translate(445.84,0)\" d=\"M0,100v345\" style=\"stroke: rgb(255, 255, 255); stroke-opacity: 1; stroke-width: 1px;\"/><path class=\"xgrid crisp\" transform=\"translate(554.45,0)\" d=\"M0,100v345\" style=\"stroke: rgb(255, 255, 255); stroke-opacity: 1; stroke-width: 1px;\"/><path class=\"xgrid crisp\" transform=\"translate(663.06,0)\" d=\"M0,100v345\" style=\"stroke: rgb(255, 255, 255); stroke-opacity: 1; stroke-width: 1px;\"/><path class=\"xgrid crisp\" transform=\"translate(771.68,0)\" d=\"M0,100v345\" style=\"stroke: rgb(255, 255, 255); stroke-opacity: 1; stroke-width: 1px;\"/></g><g class=\"y\"/></g><g class=\"zerolinelayer\"><path class=\"xzl zl crisp\" transform=\"translate(120,0)\" d=\"M0,100v345\" style=\"stroke: rgb(255, 255, 255); stroke-opacity: 1; stroke-width: 2px;\"/></g><path class=\"xlines-below\"/><path class=\"ylines-below\"/><g class=\"overlines-below\"/><g class=\"xaxislayer-below\"/><g class=\"yaxislayer-below\"/><g class=\"overaxes-below\"/><g class=\"plot\" transform=\"translate(120,100)\" clip-path=\"url(#clip59ffb0xyplot)\"><g class=\"barlayer mlayer\"><g class=\"trace bars\" style=\"opacity: 1;\"><g class=\"points\"><g class=\"point\"><path d=\"M0,341.55V313.95H276.96V341.55Z\" style=\"vector-effect: non-scaling-stroke; opacity: 1; stroke-width: 0.5px; fill: rgb(68, 1, 84); fill-opacity: 1; stroke: rgb(229, 236, 246); stroke-opacity: 1;\"/><text class=\"bartext bartext-inside\" text-anchor=\"middle\" data-notex=\"1\" x=\"0\" y=\"0\" style=\"font-family: 'Century Gothic Medium'; font-size: 13px; fill: rgb(255, 255, 255); fill-opacity: 1; white-space: pre;\" transform=\"translate(262.350625,332.75)\">510</text></g><g class=\"point\"><path d=\"M0,307.05V279.45H286.74V307.05Z\" style=\"vector-effect: non-scaling-stroke; opacity: 1; stroke-width: 0.5px; fill: rgb(69, 9, 91); fill-opacity: 1; stroke: rgb(229, 236, 246); stroke-opacity: 1;\"/><text class=\"bartext bartext-inside\" text-anchor=\"middle\" data-notex=\"1\" x=\"0\" y=\"0\" style=\"font-family: 'Century Gothic Medium'; font-size: 13px; fill: rgb(255, 255, 255); fill-opacity: 1; white-space: pre;\" transform=\"translate(272.130625,298.25)\">528</text></g><g class=\"point\"><path d=\"M0,272.55V244.95H310.63V272.55Z\" style=\"vector-effect: non-scaling-stroke; opacity: 1; stroke-width: 0.5px; fill: rgb(71, 28, 109); fill-opacity: 1; stroke: rgb(229, 236, 246); stroke-opacity: 1;\"/><text class=\"bartext bartext-inside\" text-anchor=\"middle\" data-notex=\"1\" x=\"0\" y=\"0\" style=\"font-family: 'Century Gothic Medium'; font-size: 13px; fill: rgb(255, 255, 255); fill-opacity: 1; white-space: pre;\" transform=\"translate(296.020625,263.75)\">572</text></g><g class=\"point\"><path d=\"M0,238.05V210.45H326.38V238.05Z\" style=\"vector-effect: non-scaling-stroke; opacity: 1; stroke-width: 0.5px; fill: rgb(72, 41, 120); fill-opacity: 1; stroke: rgb(229, 236, 246); stroke-opacity: 1;\"/><text class=\"bartext bartext-inside\" text-anchor=\"middle\" data-notex=\"1\" x=\"0\" y=\"0\" style=\"font-family: 'Century Gothic Medium'; font-size: 13px; fill: rgb(255, 255, 255); fill-opacity: 1; white-space: pre;\" transform=\"translate(312.5675,229.25)\">601</text></g><g class=\"point\"><path d=\"M0,203.55V175.95H392.09V203.55Z\" style=\"vector-effect: non-scaling-stroke; opacity: 1; stroke-width: 0.5px; fill: rgb(57, 85, 139); fill-opacity: 1; stroke: rgb(229, 236, 246); stroke-opacity: 1;\"/><text class=\"bartext bartext-inside\" text-anchor=\"middle\" data-notex=\"1\" x=\"0\" y=\"0\" style=\"font-family: 'Century Gothic Medium'; font-size: 13px; fill: rgb(255, 255, 255); fill-opacity: 1; white-space: pre;\" transform=\"translate(377.480625,194.75)\">722</text></g><g class=\"point\"><path d=\"M0,169.05V141.45H423.59V169.05Z\" style=\"vector-effect: non-scaling-stroke; opacity: 1; stroke-width: 0.5px; fill: rgb(49, 105, 142); fill-opacity: 1; stroke: rgb(229, 236, 246); stroke-opacity: 1;\"/><text class=\"bartext bartext-inside\" text-anchor=\"middle\" data-notex=\"1\" x=\"0\" y=\"0\" style=\"font-family: 'Century Gothic Medium'; font-size: 13px; fill: rgb(255, 255, 255); fill-opacity: 1; white-space: pre;\" transform=\"translate(408.980625,160.25)\">780</text></g><g class=\"point\"><path d=\"M0,134.55V106.95H536V134.55Z\" style=\"vector-effect: non-scaling-stroke; opacity: 1; stroke-width: 0.5px; fill: rgb(39, 167, 131); fill-opacity: 1; stroke: rgb(229, 236, 246); stroke-opacity: 1;\"/><text class=\"bartext bartext-inside\" text-anchor=\"middle\" data-notex=\"1\" x=\"0\" y=\"0\" style=\"font-family: 'Century Gothic Medium'; font-size: 13px; fill: rgb(255, 255, 255); fill-opacity: 1; white-space: pre;\" transform=\"translate(521.390625,125.75)\">987</text></g><g class=\"point\"><path d=\"M0,100.05V72.45H556.64V100.05Z\" style=\"vector-effect: non-scaling-stroke; opacity: 1; stroke-width: 0.5px; fill: rgb(48, 177, 125); fill-opacity: 1; stroke: rgb(229, 236, 246); stroke-opacity: 1;\"/><text class=\"bartext bartext-inside\" text-anchor=\"middle\" data-notex=\"1\" x=\"0\" y=\"0\" style=\"font-family: 'Century Gothic Medium'; font-size: 13px; fill: rgb(68, 68, 68); fill-opacity: 1; white-space: pre;\" transform=\"translate(539.218125,91.25)\">1025</text></g><g class=\"point\"><path d=\"M0,65.55V37.95H600.63V65.55Z\" style=\"vector-effect: non-scaling-stroke; opacity: 1; stroke-width: 0.5px; fill: rgb(92, 199, 98); fill-opacity: 1; stroke: rgb(229, 236, 246); stroke-opacity: 1;\"/><text class=\"bartext bartext-inside\" text-anchor=\"middle\" data-notex=\"1\" x=\"0\" y=\"0\" style=\"font-family: 'Century Gothic Medium'; font-size: 13px; fill: rgb(68, 68, 68); fill-opacity: 1; white-space: pre;\" transform=\"translate(583.208125,56.75)\">1106</text></g><g class=\"point\"><path d=\"M0,31.05V3.45H712.5V31.05Z\" style=\"vector-effect: non-scaling-stroke; opacity: 1; stroke-width: 0.5px; fill: rgb(253, 231, 37); fill-opacity: 1; stroke: rgb(229, 236, 246); stroke-opacity: 1;\"/><text class=\"bartext bartext-inside\" text-anchor=\"middle\" data-notex=\"1\" x=\"0\" y=\"0\" style=\"font-family: 'Century Gothic Medium'; font-size: 13px; fill: rgb(68, 68, 68); fill-opacity: 1; white-space: pre;\" transform=\"translate(694.28125,22.25)\">1312</text></g></g></g></g></g><g class=\"overplot\"/><path class=\"xlines-above crisp\" d=\"M0,0\" style=\"fill: none;\"/><path class=\"ylines-above crisp\" d=\"M0,0\" style=\"fill: none;\"/><g class=\"overlines-above\"/><g class=\"xaxislayer-above\"><g class=\"xtick\"><text text-anchor=\"middle\" x=\"0\" y=\"459\" transform=\"translate(120,0)\" style=\"font-family: 'Century Gothic Medium'; font-size: 13px; fill: rgb(0, 0, 0); fill-opacity: 1; white-space: pre; opacity: 1;\">0</text></g><g class=\"xtick\"><text text-anchor=\"middle\" x=\"0\" y=\"459\" style=\"font-family: 'Century Gothic Medium'; font-size: 13px; fill: rgb(0, 0, 0); fill-opacity: 1; white-space: pre; opacity: 1;\" transform=\"translate(228.61,0)\">200</text></g><g class=\"xtick\"><text text-anchor=\"middle\" x=\"0\" y=\"459\" style=\"font-family: 'Century Gothic Medium'; font-size: 13px; fill: rgb(0, 0, 0); fill-opacity: 1; white-space: pre; opacity: 1;\" transform=\"translate(337.23,0)\">400</text></g><g class=\"xtick\"><text text-anchor=\"middle\" x=\"0\" y=\"459\" style=\"font-family: 'Century Gothic Medium'; font-size: 13px; fill: rgb(0, 0, 0); fill-opacity: 1; white-space: pre; opacity: 1;\" transform=\"translate(445.84,0)\">600</text></g><g class=\"xtick\"><text text-anchor=\"middle\" x=\"0\" y=\"459\" style=\"font-family: 'Century Gothic Medium'; font-size: 13px; fill: rgb(0, 0, 0); fill-opacity: 1; white-space: pre; opacity: 1;\" transform=\"translate(554.45,0)\">800</text></g><g class=\"xtick\"><text text-anchor=\"middle\" x=\"0\" y=\"459\" style=\"font-family: 'Century Gothic Medium'; font-size: 13px; fill: rgb(0, 0, 0); fill-opacity: 1; white-space: pre; opacity: 1;\" transform=\"translate(663.06,0)\">1000</text></g><g class=\"xtick\"><text text-anchor=\"middle\" x=\"0\" y=\"459\" style=\"font-family: 'Century Gothic Medium'; font-size: 13px; fill: rgb(0, 0, 0); fill-opacity: 1; white-space: pre; opacity: 1;\" transform=\"translate(771.68,0)\">1200</text></g></g><g class=\"yaxislayer-above\"><g class=\"ytick\"><text text-anchor=\"end\" x=\"119\" y=\"4.55\" transform=\"translate(0,427.75)\" style=\"font-family: 'Century Gothic Medium'; font-size: 13px; fill: rgb(0, 0, 0); fill-opacity: 1; white-space: pre; opacity: 1;\">Mandibuzz</text></g><g class=\"ytick\"><text text-anchor=\"end\" x=\"119\" y=\"4.55\" transform=\"translate(0,393.25)\" style=\"font-family: 'Century Gothic Medium'; font-size: 13px; fill: rgb(0, 0, 0); fill-opacity: 1; white-space: pre; opacity: 1;\">Excadrill</text></g><g class=\"ytick\"><text text-anchor=\"end\" x=\"119\" y=\"4.55\" transform=\"translate(0,358.75)\" style=\"font-family: 'Century Gothic Medium'; font-size: 13px; fill: rgb(0, 0, 0); fill-opacity: 1; white-space: pre; opacity: 1;\">Garchomp</text></g><g class=\"ytick\"><text text-anchor=\"end\" x=\"119\" y=\"4.55\" transform=\"translate(0,324.25)\" style=\"font-family: 'Century Gothic Medium'; font-size: 13px; fill: rgb(0, 0, 0); fill-opacity: 1; white-space: pre; opacity: 1;\">Heatran</text></g><g class=\"ytick\"><text text-anchor=\"end\" x=\"119\" y=\"4.55\" transform=\"translate(0,289.75)\" style=\"font-family: 'Century Gothic Medium'; font-size: 13px; fill: rgb(0, 0, 0); fill-opacity: 1; white-space: pre; opacity: 1;\">Ferrothorn</text></g><g class=\"ytick\"><text text-anchor=\"end\" x=\"119\" y=\"4.55\" transform=\"translate(0,255.25)\" style=\"font-family: 'Century Gothic Medium'; font-size: 13px; fill: rgb(0, 0, 0); fill-opacity: 1; white-space: pre; opacity: 1;\">Toxapex</text></g><g class=\"ytick\"><text text-anchor=\"end\" x=\"119\" y=\"4.55\" transform=\"translate(0,220.75)\" style=\"font-family: 'Century Gothic Medium'; font-size: 13px; fill: rgb(0, 0, 0); fill-opacity: 1; white-space: pre; opacity: 1;\">Dragapult</text></g><g class=\"ytick\"><text text-anchor=\"end\" x=\"119\" y=\"4.55\" transform=\"translate(0,186.25)\" style=\"font-family: 'Century Gothic Medium'; font-size: 13px; fill: rgb(0, 0, 0); fill-opacity: 1; white-space: pre; opacity: 1;\">Corviknight</text></g><g class=\"ytick\"><text text-anchor=\"end\" x=\"119\" y=\"4.55\" transform=\"translate(0,151.75)\" style=\"font-family: 'Century Gothic Medium'; font-size: 13px; fill: rgb(0, 0, 0); fill-opacity: 1; white-space: pre; opacity: 1;\">Clefable</text></g><g class=\"ytick\"><text text-anchor=\"end\" x=\"119\" y=\"4.55\" transform=\"translate(0,117.25)\" style=\"font-family: 'Century Gothic Medium'; font-size: 13px; fill: rgb(0, 0, 0); fill-opacity: 1; white-space: pre; opacity: 1;\">Landorus-Therian</text></g></g><g class=\"overaxes-above\"/></g></g><g class=\"polarlayer\"/><g class=\"smithlayer\"/><g class=\"ternarylayer\"/><g class=\"geolayer\"/><g class=\"funnelarealayer\"/><g class=\"pielayer\"/><g class=\"iciclelayer\"/><g class=\"treemaplayer\"/><g class=\"sunburstlayer\"/><g class=\"glimages\"/><defs id=\"topdefs-59ffb0\"><g class=\"clips\"/></defs><g class=\"layer-above\"><g class=\"imagelayer\"/><g class=\"shapelayer\"/></g><g class=\"infolayer\"><g class=\"g-gtitle\"><text class=\"gtitle\" x=\"47.5\" y=\"50\" text-anchor=\"start\" dy=\"0em\" style=\"font-family: 'Century Gothic'; font-size: 18px; fill: rgb(0, 0, 0); opacity: 1; font-weight: normal; white-space: pre;\"><tspan style=\"font-weight:bold\">Top 10 pokémons mais utilizados:<tspan style=\"font-weight:bold\"></tspan></tspan></text></g><g class=\"g-xtitle\"/><g class=\"g-ytitle\"/></g></svg>"
      ]
     },
     "metadata": {},
     "output_type": "display_data"
    }
   ],
   "source": [
    "top10_mais_usados = pokemons.value_counts()[:10].sort_values()\n",
    "\n",
    "fig = go.Figure(go.Bar(\n",
    "            y=top10_mais_usados.index,\n",
    "            x=top10_mais_usados.values,\n",
    "            orientation='h',\n",
    "            marker=dict(color = top10_mais_usados, colorscale='viridis'),\n",
    "            hovertemplate='Usado %{x} vezes<extra></extra>',\n",
    "            text=top10_mais_usados.values,\n",
    "            textposition='auto'))\n",
    "fig.update_layout(width=950,\n",
    "                  height=525,\n",
    "                  title_text=\"<b>Top 10 pokémons mais utilizados:<b>\",\n",
    "                  font_family=\"Century Gothic Medium\",\n",
    "                  font_color=\"black\",\n",
    "                  title_font_family=\"Century Gothic\",\n",
    "                  font_size=13)\n",
    "\n",
    "fig.show(renderer=\"svg\")"
   ]
  },
  {
   "cell_type": "markdown",
   "id": "4fd1043e",
   "metadata": {},
   "source": [
    "Ao que parece, _Landorus-Therian_, _Clefable_ e _Corviknight_ são os pokémons mais populares nessa _tier_."
   ]
  }
 ],
 "metadata": {
  "kernelspec": {
   "display_name": "Python 3 (ipykernel)",
   "language": "python",
   "name": "python3"
  },
  "language_info": {
   "codemirror_mode": {
    "name": "ipython",
    "version": 3
   },
   "file_extension": ".py",
   "mimetype": "text/x-python",
   "name": "python",
   "nbconvert_exporter": "python",
   "pygments_lexer": "ipython3",
   "version": "3.9.12"
  }
 },
 "nbformat": 4,
 "nbformat_minor": 5
}
